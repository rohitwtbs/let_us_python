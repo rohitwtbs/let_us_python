{
 "cells": [
  {
   "cell_type": "code",
   "execution_count": null,
   "id": "2a64ee0c",
   "metadata": {},
   "outputs": [],
   "source": [
    "string"
   ]
  },
  {
   "cell_type": "code",
   "execution_count": null,
   "id": "01913875",
   "metadata": {},
   "outputs": [],
   "source": [
    "msg = \"hello\"\n",
    "for i in msg:\n",
    "    print(\"he\")"
   ]
  }
 ],
 "metadata": {
  "kernelspec": {
   "display_name": "Python 3 (ipykernel)",
   "language": "python",
   "name": "python3"
  },
  "language_info": {
   "codemirror_mode": {
    "name": "ipython",
    "version": 3
   },
   "file_extension": ".py",
   "mimetype": "text/x-python",
   "name": "python",
   "nbconvert_exporter": "python",
   "pygments_lexer": "ipython3",
   "version": "3.9.17"
  }
 },
 "nbformat": 4,
 "nbformat_minor": 5
}
